{
 "cells": [
  {
   "cell_type": "code",
   "execution_count": 12,
   "metadata": {},
   "outputs": [],
   "source": [
    "import io\n",
    "import json\n",
    "import csv\n",
    "import string\n",
    "import datetime as dt\n",
    "from pipeline import Pipeline\n",
    "from stop_words import stop_words\n",
    "from pipeline import build_csv"
   ]
  },
  {
   "cell_type": "markdown",
   "metadata": {},
   "source": [
    "**The pipeline object will arrange tasks and execute in a Directed Acyclic way**"
   ]
  },
  {
   "cell_type": "code",
   "execution_count": 13,
   "metadata": {},
   "outputs": [],
   "source": [
    "pipeline = Pipeline()"
   ]
  },
  {
   "cell_type": "markdown",
   "metadata": {},
   "source": [
    "**This task will read all the top stories of 2014 stored in the JSON file into a dictionary object**\n",
    "<br>\n",
    "The stories key contains a list of stories where each story is a dictionary"
   ]
  },
  {
   "cell_type": "code",
   "execution_count": 14,
   "metadata": {},
   "outputs": [],
   "source": [
    "@pipeline.task()\n",
    "def file_to_json():\n",
    "    with open('Data/hn_stories_2014.json', 'r') as file:\n",
    "        dic = json.load(file)\n",
    "    return dic['stories']\n"
   ]
  },
  {
   "cell_type": "markdown",
   "metadata": {},
   "source": [
    "**Out of all the stories we will filter out the stories with following criteria:**\n",
    "* Number of comments less than or equal to 1\n",
    "* Number of points less than or equal to 50\n",
    "* Title contains Ask HN(Stories posted as questions to the community)"
   ]
  },
  {
   "cell_type": "code",
   "execution_count": 15,
   "metadata": {},
   "outputs": [],
   "source": [
    "@pipeline.task(depends_on=file_to_json)\n",
    "def filter_stories(stories):\n",
    "    return ( \n",
    "            story \n",
    "            for story in stories \n",
    "            if story['num_comments'] > 1 and story['points'] > 50\n",
    "            and not story['title'].startswith('Ask HN') \n",
    "    )"
   ]
  },
  {
   "cell_type": "markdown",
   "metadata": {},
   "source": [
    "**The following fields are selected from each story and stored in a CSV file**\n",
    "* *objectID* : Unique Id of a story\n",
    "* *created_at* : Time of creattion of story \n",
    "* *url* : URL of the story\n",
    "* *points* : Number of points each story received\n",
    "* *title* : Title of the story"
   ]
  },
  {
   "cell_type": "code",
   "execution_count": 16,
   "metadata": {},
   "outputs": [],
   "source": [
    "@pipeline.task(depends_on=filter_stories)\n",
    "def json_to_csv(stories):\n",
    "    modified_stories = (\n",
    "        (story['objectID'], dt.datetime.strptime(story['created_at'], \"%Y-%m-%dT%H:%M:%SZ\"), \n",
    "         story['url'], story['points'], story['title'])\n",
    "        for story in stories\n",
    "    )\n",
    "    csv_file = build_csv(\n",
    "        modified_stories,\n",
    "        header = [\n",
    "            'objectID', 'created_at', 'url', 'points', 'title'\n",
    "        ],\n",
    "        file = io.StringIO()\n",
    "    )\n",
    "    return csv_file"
   ]
  },
  {
   "cell_type": "markdown",
   "metadata": {},
   "source": [
    "**The below task returns a generator expression of all the titles of the stories stored in CSV file**"
   ]
  },
  {
   "cell_type": "code",
   "execution_count": 17,
   "metadata": {},
   "outputs": [],
   "source": [
    "@pipeline.task(depends_on=json_to_csv)\n",
    "def extract_titles(file):\n",
    "    reader = csv.reader(file,delimiter=',')\n",
    "    header = next(reader)\n",
    "    idx = header.index('title')\n",
    "    return (line[idx] for line in reader)"
   ]
  },
  {
   "cell_type": "markdown",
   "metadata": {},
   "source": [
    "**The below task returns the titles as a generator expression after removing punctuations**"
   ]
  },
  {
   "cell_type": "code",
   "execution_count": 18,
   "metadata": {},
   "outputs": [],
   "source": [
    "\n",
    "@pipeline.task(depends_on=extract_titles)\n",
    "def clean_titles(titles):\n",
    "    return (\n",
    "        title.lower().translate(str.maketrans('', '', string.punctuation))\n",
    "        for title in titles\n",
    "    )\n"
   ]
  },
  {
   "cell_type": "markdown",
   "metadata": {},
   "source": [
    "**The below task returns a dictionary of word frequencies for the words present in the title**\n",
    "<br>\n",
    "Stopwords have not been considered here "
   ]
  },
  {
   "cell_type": "code",
   "execution_count": 19,
   "metadata": {},
   "outputs": [],
   "source": [
    "@pipeline.task(depends_on=clean_titles)\n",
    "def build_keyword_dictionary(titles):\n",
    "    word_freq = {}\n",
    "    for title in titles:\n",
    "        words = [\n",
    "            word \n",
    "            for word in title.split() \n",
    "            if not word in stop_words and len(word) != 0\n",
    "        ]\n",
    "        for word in words:\n",
    "            if word not in word_freq:\n",
    "                word_freq[word] = 0\n",
    "            word_freq[word] += 1\n",
    "    return word_freq"
   ]
  },
  {
   "cell_type": "markdown",
   "metadata": {},
   "source": [
    "**The below task returns the top 100 words with highest frequency**"
   ]
  },
  {
   "cell_type": "code",
   "execution_count": 20,
   "metadata": {},
   "outputs": [],
   "source": [
    "@pipeline.task(depends_on=build_keyword_dictionary)\n",
    "def sort_words(word_freq):\n",
    "    lis = [(k,v) for k,v in word_freq.items()]\n",
    "    return sorted(lis, key=lambda x:x[1], reverse=True)[:100]"
   ]
  },
  {
   "cell_type": "markdown",
   "metadata": {},
   "source": [
    "**The *run* method will run these tasks in the order in which they are registered**"
   ]
  },
  {
   "cell_type": "code",
   "execution_count": 21,
   "metadata": {},
   "outputs": [],
   "source": [
    "output = pipeline.run()"
   ]
  },
  {
   "cell_type": "code",
   "execution_count": 22,
   "metadata": {},
   "outputs": [
    {
     "name": "stdout",
     "output_type": "stream",
     "text": [
      "[('new', 185), ('google', 167), ('bitcoin', 101), ('open', 92), ('programming', 90), ('web', 88), ('data', 85), ('video', 79), ('python', 76), ('code', 72), ('facebook', 71), ('released', 71), ('using', 70), ('2013', 65), ('javascript', 65), ('free', 64), ('source', 64), ('game', 63), ('internet', 62), ('microsoft', 59), ('c', 59), ('linux', 58), ('app', 57), ('pdf', 55), ('work', 54), ('language', 54), ('software', 52), ('2014', 52), ('startup', 51), ('apple', 50), ('use', 50), ('make', 50), ('time', 48), ('yc', 48), ('security', 48), ('nsa', 45), ('github', 45), ('windows', 44), ('1', 41), ('world', 41), ('way', 41), ('like', 41), ('project', 40), ('computer', 40), ('heartbleed', 40), ('git', 37), ('users', 37), ('dont', 37), ('design', 37), ('ios', 37), ('developer', 36), ('os', 36), ('twitter', 36), ('ceo', 36), ('vs', 36), ('life', 36), ('big', 35), ('day', 35), ('android', 34), ('online', 34), ('years', 33), ('simple', 33), ('court', 33), ('guide', 32), ('learning', 32), ('mt', 32), ('api', 32), ('says', 32), ('apps', 32), ('browser', 32), ('server', 31), ('firefox', 31), ('fast', 31), ('amazon', 31), ('gox', 31), ('problem', 31), ('mozilla', 31), ('engine', 31), ('site', 31), ('introducing', 30), ('year', 30), ('support', 29), ('stop', 29), ('built', 29), ('better', 29), ('million', 29), ('people', 29), ('text', 29), ('3', 28), ('does', 28), ('tech', 28), ('development', 28), ('billion', 27), ('developers', 27), ('just', 27), ('library', 27), ('did', 27), ('website', 27), ('money', 27), ('inside', 27)]\n"
     ]
    }
   ],
   "source": [
    "print(output[sort_words])"
   ]
  },
  {
   "cell_type": "markdown",
   "metadata": {},
   "source": [
    "**Observation: There were many stories related to bitcoin, google, data as can be seen from the above list**"
   ]
  }
 ],
 "metadata": {
  "anaconda-cloud": {},
  "kernelspec": {
   "display_name": "Python 3",
   "language": "python",
   "name": "python3"
  },
  "language_info": {
   "codemirror_mode": {
    "name": "ipython",
    "version": 3
   },
   "file_extension": ".py",
   "mimetype": "text/x-python",
   "name": "python",
   "nbconvert_exporter": "python",
   "pygments_lexer": "ipython3",
   "version": "3.8.5"
  }
 },
 "nbformat": 4,
 "nbformat_minor": 1
}
